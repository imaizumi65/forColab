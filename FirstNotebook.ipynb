{
  "nbformat": 4,
  "nbformat_minor": 0,
  "metadata": {
    "colab": {
      "provenance": [],
      "include_colab_link": true
    },
    "kernelspec": {
      "name": "python3",
      "display_name": "Python 3"
    }
  },
  "cells": [
    {
      "cell_type": "markdown",
      "metadata": {
        "id": "view-in-github",
        "colab_type": "text"
      },
      "source": [
        "<a href=\"https://colab.research.google.com/github/imaizumi65/forColab/blob/main/FirstNotebook.ipynb\" target=\"_parent\"><img src=\"https://colab.research.google.com/assets/colab-badge.svg\" alt=\"Open In Colab\"/></a>"
      ]
    },
    {
      "cell_type": "markdown",
      "metadata": {
        "id": "xVQyS8DvmDsl"
      },
      "source": [
        "多くの人にとって，これが初めてのノートブックになるかと思います。今後は，このノートブックの上で様々な作業をすることになるので，今のうちに慣れておきましょう。"
      ]
    },
    {
      "cell_type": "markdown",
      "metadata": {
        "id": "77TxU0FwnEfY"
      },
      "source": [
        "すぐ下にある箱は，コードを追加できる箱です。ここに数式を書いて，その左にある▶をクリックしてみてください。これは実行ボタンになっていて，ボタンを押すことでコードを実行できます。"
      ]
    },
    {
      "cell_type": "code",
      "metadata": {
        "id": "Egkgu7YFnT5V",
        "colab": {
          "base_uri": "https://localhost:8080/"
        },
        "outputId": "7c0cd363-9f2e-4ab3-9cb0-a110dabfd5fa"
      },
      "source": [
        "1 + 2"
      ],
      "execution_count": null,
      "outputs": [
        {
          "output_type": "execute_result",
          "data": {
            "text/plain": [
              "3"
            ]
          },
          "metadata": {},
          "execution_count": 1
        }
      ]
    },
    {
      "cell_type": "markdown",
      "metadata": {
        "id": "9g8G-fzlnV95"
      },
      "source": [
        "例として「1 + 2」という数式を書いてありますが，これをそのまま実行するとすぐ下に「3」と表示されたことと思います。"
      ]
    },
    {
      "cell_type": "code",
      "source": [
        "[x*2 for x in range(10)]"
      ],
      "metadata": {
        "colab": {
          "base_uri": "https://localhost:8080/"
        },
        "id": "aIgFWW-GHwIb",
        "outputId": "c25b2bdb-6b4e-4c05-a93e-b2cd04208ff0"
      },
      "execution_count": null,
      "outputs": [
        {
          "output_type": "execute_result",
          "data": {
            "text/plain": [
              "[0, 2, 4, 6, 8, 10, 12, 14, 16, 18]"
            ]
          },
          "metadata": {},
          "execution_count": 3
        }
      ]
    },
    {
      "cell_type": "markdown",
      "metadata": {
        "id": "04HmhynAdbM2"
      },
      "source": [
        "最後のセル。これがあるとセル間のセル追加機能が使えるから楽にセルが追加できるかと思って。"
      ]
    }
  ]
}